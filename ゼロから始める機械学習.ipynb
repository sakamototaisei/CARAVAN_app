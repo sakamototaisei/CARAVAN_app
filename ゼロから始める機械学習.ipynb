{
  "nbformat": 4,
  "nbformat_minor": 0,
  "metadata": {
    "colab": {
      "provenance": [],
      "authorship_tag": "ABX9TyOLE0Lwpx9YLnMd0IX/Bfwt",
      "include_colab_link": true
    },
    "kernelspec": {
      "name": "python3",
      "display_name": "Python 3"
    },
    "language_info": {
      "name": "python"
    }
  },
  "cells": [
    {
      "cell_type": "markdown",
      "metadata": {
        "id": "view-in-github",
        "colab_type": "text"
      },
      "source": [
        "<a href=\"https://colab.research.google.com/github/sakamototaisei/CARAVAN_app/blob/main/%E3%82%BC%E3%83%AD%E3%81%8B%E3%82%89%E5%A7%8B%E3%82%81%E3%82%8B%E6%A9%9F%E6%A2%B0%E5%AD%A6%E7%BF%92.ipynb\" target=\"_parent\"><img src=\"https://colab.research.google.com/assets/colab-badge.svg\" alt=\"Open In Colab\"/></a>"
      ]
    },
    {
      "cell_type": "markdown",
      "source": [
        "# **AIについて**"
      ],
      "metadata": {
        "id": "JXpwOBXU8A3L"
      }
    },
    {
      "cell_type": "markdown",
      "source": [
        "\n",
        "**機械学習とは**関数内部が何であるか、関数を推測するする作成応用することで画像や文字を認識している\n",
        "\n"
      ],
      "metadata": {
        "id": "gJSALKyB8cwo"
      }
    },
    {
      "cell_type": "markdown",
      "source": [
        "\n",
        "\n",
        "*   データ分析\n",
        "*   **機械学習モデリング**→このコーズはここを扱う\n",
        "*   モデルの運用\n",
        "\n"
      ],
      "metadata": {
        "id": "zbR4VylP-MI5"
      }
    },
    {
      "cell_type": "markdown",
      "source": [
        "# **Kaggleへチャレンジ**"
      ],
      "metadata": {
        "id": "LKV5qNHs8_wL"
      }
    },
    {
      "cell_type": "code",
      "source": [
        "import pandas as pd\n",
        "import numpy as np\n",
        "import random as rnd\n",
        "\n",
        "import seaborn as sns\n",
        "import matplotlib.pyplot as plt\n",
        "%matplotlib inline\n",
        "\n",
        "from sklearn.linear_model import LogisticRegression\n",
        "from sklearn.svm import SVC, LinearSVC\n",
        "from sklearn.ensemble import RandomForestClassifier\n",
        "from sklearn.neighbors import KNeighborsClassifier\n",
        "from sklearn.naive_bayes import GaussianNB\n",
        "from sklearn.linear_model import Perceptron\n",
        "from sklearn.linear_model import SGDClassifier\n",
        "from sklearn.tree import DecisionTreeClassifier"
      ],
      "metadata": {
        "id": "Vra1MKzV9JtP"
      },
      "execution_count": 1,
      "outputs": []
    },
    {
      "cell_type": "markdown",
      "source": [
        "# **データの前処理と機械学習の基礎**"
      ],
      "metadata": {
        "id": "oJk3hVyd9Kaq"
      }
    },
    {
      "cell_type": "code",
      "source": [],
      "metadata": {
        "id": "fhQPM1dO9QEb"
      },
      "execution_count": null,
      "outputs": []
    },
    {
      "cell_type": "markdown",
      "source": [
        "# **回帰/Regression**"
      ],
      "metadata": {
        "id": "5XzyYh129Q3n"
      }
    },
    {
      "cell_type": "code",
      "source": [],
      "metadata": {
        "id": "4dB2b6WE9Vta"
      },
      "execution_count": null,
      "outputs": []
    },
    {
      "cell_type": "markdown",
      "source": [
        "# **分類/Classification**"
      ],
      "metadata": {
        "id": "540FkEUW9WQG"
      }
    },
    {
      "cell_type": "code",
      "source": [],
      "metadata": {
        "id": "xKQZvRHe9sJf"
      },
      "execution_count": null,
      "outputs": []
    },
    {
      "cell_type": "markdown",
      "source": [
        "# **ニューラルネットワークとディープラーニング**"
      ],
      "metadata": {
        "id": "4vFq1Yg99sXC"
      }
    },
    {
      "cell_type": "code",
      "source": [],
      "metadata": {
        "id": "qCZVRbol912V"
      },
      "execution_count": null,
      "outputs": []
    },
    {
      "cell_type": "markdown",
      "source": [
        "# **Boosting**"
      ],
      "metadata": {
        "id": "sJSJLGG492nN"
      }
    },
    {
      "cell_type": "code",
      "source": [],
      "metadata": {
        "id": "kmQ8kGdl9560"
      },
      "execution_count": null,
      "outputs": []
    },
    {
      "cell_type": "markdown",
      "source": [
        "# **モデルの評価**"
      ],
      "metadata": {
        "id": "oDVrTNPE96kS"
      }
    },
    {
      "cell_type": "code",
      "source": [],
      "metadata": {
        "id": "HJVJiU869-cU"
      },
      "execution_count": null,
      "outputs": []
    },
    {
      "cell_type": "markdown",
      "source": [
        "# **改めてKaggleにチャレンジ**"
      ],
      "metadata": {
        "id": "ZM3ZACcr9_sH"
      }
    },
    {
      "cell_type": "code",
      "source": [],
      "metadata": {
        "id": "dwvvno_l-Dbp"
      },
      "execution_count": null,
      "outputs": []
    }
  ]
}